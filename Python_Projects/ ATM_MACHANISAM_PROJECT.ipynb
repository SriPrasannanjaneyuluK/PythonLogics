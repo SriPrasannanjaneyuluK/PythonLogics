{
 "cells": [
  {
   "cell_type": "markdown",
   "metadata": {},
   "source": [
    "##  ATM MACHANISAM PROJECT"
   ]
  },
  {
   "cell_type": "markdown",
   "metadata": {},
   "source": [
    "### Program to check the bank balance and acount inforamation"
   ]
  },
  {
   "cell_type": "code",
   "execution_count": 11,
   "metadata": {},
   "outputs": [
    {
     "name": "stdout",
     "output_type": "stream",
     "text": [
      "1.Balance Enquery 2.Diposite 3.withdraw 4.Account Inforamation 5.Exit\n",
      "Enter your option 1\n",
      "None\n"
     ]
    }
   ],
   "source": [
    "class atm:\n",
    "    account_number = 0\n",
    "    account_holder_name = \"\"\n",
    "    password = 0\n",
    "    account_balance = 0\n",
    "    bank_name = \"\"\n",
    "    \n",
    "    def __init__(self):\n",
    "        self.account_number = 1234\n",
    "        self.account_holder_name = \"Anand\"\n",
    "        self.password = 1234\n",
    "        self.account_balance = 100000\n",
    "        self.bank_name = \"Bank of Anand\"\n",
    "    \n",
    "    def accountInfo(self):\n",
    "        print('Bank Name: {} \\nAccount Holder Name: {} \\nAccount Number: {} \\nAvailable Balance: {}'.format(self.bank_name,self.account_holder_name,self.account_number,self.account_balance) )\n",
    "        \n",
    "    def diposite(self):\n",
    "        amount = int(input(\"Enter the amount \"))\n",
    "        self.account_balance += amount\n",
    "        return self.account_balance\n",
    "    \n",
    "    def withdraw(self):\n",
    "        withdraw_amount = int(input(\"Enter the withdrawl amout \"))\n",
    "        self.account_balance -= withdraw_amount\n",
    "        print(self.account_balance)\n",
    "    \n",
    "    def selectOption(self):\n",
    "        try:\n",
    "            print(\"1.Balance Enquery 2.Diposite 3.withdraw 4.Account Inforamation 5.Exit\")\n",
    "            option = int(input(\"Enter your option \"))\n",
    "            if option == 1:\n",
    "                print(self.account_balance)\n",
    "            elif option == 2:\n",
    "                self.diposite()\n",
    "            elif option == 3:\n",
    "                self.withdraw()\n",
    "            elif option == 4:\n",
    "                self.accountInfo()\n",
    "            elif option == 5:\n",
    "                print(\"Thank you\")\n",
    "        except:\n",
    "            count = 0\n",
    "            if count <= 3:\n",
    "                count+=1\n",
    "                print(\"Enter a valid option\")\n",
    "                selectOption()\n",
    "            else:\n",
    "                pirnt('You reached maximum number of attemts please try again \"\\n\" THANK YOU')\n",
    "                \n",
    "bank = atm()\n",
    "\n",
    "print(bank.selectOption())            "
   ]
  },
  {
   "cell_type": "code",
   "execution_count": null,
   "metadata": {},
   "outputs": [],
   "source": []
  },
  {
   "cell_type": "code",
   "execution_count": null,
   "metadata": {},
   "outputs": [],
   "source": []
  }
 ],
 "metadata": {
  "kernelspec": {
   "display_name": "Python 3",
   "language": "python",
   "name": "python3"
  }
 },
 "nbformat": 4,
 "nbformat_minor": 4
}
