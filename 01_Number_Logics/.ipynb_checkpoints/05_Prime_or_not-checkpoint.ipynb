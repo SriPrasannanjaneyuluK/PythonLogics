{
 "cells": [
  {
   "cell_type": "markdown",
   "metadata": {},
   "source": [
    "## Given number is prime or notm"
   ]
  },
  {
   "cell_type": "code",
   "execution_count": null,
   "metadata": {},
   "outputs": [],
   "source": [
    "1.Write a python program to display given number is prime or not"
   ]
  },
  {
   "cell_type": "code",
   "execution_count": 8,
   "metadata": {},
   "outputs": [
    {
     "name": "stdout",
     "output_type": "stream",
     "text": [
      "Enter a integer number: 11\n",
      "hi\n",
      "hi\n",
      "hi\n",
      "hi\n",
      "hi\n",
      "hi\n",
      "hi\n",
      "hi\n",
      "The given number 11 is not a prime number\n"
     ]
    }
   ],
   "source": [
    "count =0\n",
    "\n",
    "# We use try block to solve unsolved exceptions\n",
    "# Try block try to exicute the statements within try bliock. \n",
    "# If any statement raises the exception then remaining statements will be skipped and exceptionn gos to except block\n",
    "try:\n",
    "    num = int(input(\"Enter a integer number: \"))\n",
    "    \n",
    "    if num not in range(1,9):\n",
    "            count += 1\n",
    "            \n",
    "    for i in range(1,9):\n",
    "            print(\"hi\")\n",
    "            \n",
    "        if(num % i == 0): # Condition to check remainder is 0 or not\n",
    "            count += 1 # Every time it enters in if block, count will incremented by 1\n",
    "\n",
    "    if (count > 2):\n",
    "        print(\"The given number\",num,\"is not a prime number\")\n",
    "\n",
    "    else:\n",
    "        print(\"The given number\",num,\"is a prime number\")\n",
    "\n",
    "# Except block is print the meaning full massage. To tell what type of error was occured\n",
    "except:\n",
    "    print(\"The given number is not an int type\")"
   ]
  },
  {
   "cell_type": "code",
   "execution_count": null,
   "metadata": {},
   "outputs": [],
   "source": []
  }
 ],
 "metadata": {
  "kernelspec": {
   "display_name": "Python 3",
   "language": "python",
   "name": "python3"
  },
  "language_info": {
   "codemirror_mode": {
    "name": "ipython",
    "version": 3
   },
   "file_extension": ".py",
   "mimetype": "text/x-python",
   "name": "python",
   "nbconvert_exporter": "python",
   "pygments_lexer": "ipython3",
   "version": "3.8.5"
  }
 },
 "nbformat": 4,
 "nbformat_minor": 4
}
