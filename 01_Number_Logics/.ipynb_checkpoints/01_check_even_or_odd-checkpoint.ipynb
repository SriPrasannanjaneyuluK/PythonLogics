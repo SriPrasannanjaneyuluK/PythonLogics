{
 "cells": [
  {
   "cell_type": "markdown",
   "metadata": {},
   "source": [
    "## To check given number is even number or odd number"
   ]
  },
  {
   "cell_type": "code",
   "execution_count": null,
   "metadata": {},
   "outputs": [],
   "source": [
    "1. Program to check given number is even or odd"
   ]
  },
  {
   "cell_type": "code",
   "execution_count": 8,
   "metadata": {},
   "outputs": [
    {
     "name": "stdout",
     "output_type": "stream",
     "text": [
      "Enter a number: 21\n",
      "The given number 21 is odd number\n"
     ]
    }
   ],
   "source": [
    "num = int(input(\"Enter a number: \"))\n",
    "if (num % 2 == 0):\n",
    "    print(\"Given numver\",num, \"is even number\")\n",
    "    \n",
    "elif(num == 0):\n",
    "    print(\"The given number\",num,\"is zero\")\n",
    "    \n",
    "else:\n",
    "    print(\"The given number\",num,\"is odd number\")"
   ]
  },
  {
   "cell_type": "markdown",
   "metadata": {},
   "source": [
    "### Above code fail, if we enter the floating point number or other data type"
   ]
  },
  {
   "cell_type": "code",
   "execution_count": null,
   "metadata": {},
   "outputs": [],
   "source": [
    "2. Program to check the given number is even or odd using try and except blocks"
   ]
  },
  {
   "cell_type": "code",
   "execution_count": 6,
   "metadata": {},
   "outputs": [
    {
     "name": "stdout",
     "output_type": "stream",
     "text": [
      "Enter a number : 20.3\n",
      "The number is not int type\n"
     ]
    }
   ],
   "source": [
    "try:\n",
    "    num = int(input(\"Enter a number : \"))\n",
    "    if(num%2 == 0):\n",
    "        print(\"The number\",num,\"is even number\")\n",
    "        \n",
    "    elif(num == 0):\n",
    "        print(\"The number\",num,\"is zero\")\n",
    "        \n",
    "    else:\n",
    "        print(\"The number\",num,\"is odd number\")\n",
    "        \n",
    "except:\n",
    "    print(\"The number is not int type\")"
   ]
  },
  {
   "cell_type": "code",
   "execution_count": null,
   "metadata": {},
   "outputs": [],
   "source": []
  }
 ],
 "metadata": {
  "kernelspec": {
   "display_name": "Python 3",
   "language": "python",
   "name": "python3"
  },
  "language_info": {
   "codemirror_mode": {
    "name": "ipython",
    "version": 3
   },
   "file_extension": ".py",
   "mimetype": "text/x-python",
   "name": "python",
   "nbconvert_exporter": "python",
   "pygments_lexer": "ipython3",
   "version": "3.8.5"
  }
 },
 "nbformat": 4,
 "nbformat_minor": 4
}
