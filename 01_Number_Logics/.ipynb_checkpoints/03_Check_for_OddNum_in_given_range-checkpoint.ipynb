{
 "cells": [
  {
   "cell_type": "markdown",
   "metadata": {},
   "source": [
    "## To check for odd number in a given range"
   ]
  },
  {
   "cell_type": "code",
   "execution_count": 11,
   "metadata": {},
   "outputs": [
    {
     "name": "stdout",
     "output_type": "stream",
     "text": [
      "Ood numbers are:\n",
      "5\n",
      "7\n",
      "9\n"
     ]
    }
   ],
   "source": [
    "count = 0\n",
    "\n",
    "for i in range(5,10):\n",
    "     \n",
    "    if (i == 1):\n",
    "        \n",
    "        if (count < 1):\n",
    "            print(\"Ood numbers are:\")\n",
    "            count += 1\n",
    "            \n",
    "        print(i)     \n",
    "        count += 1   \n",
    "    \n",
    "    elif (i != 0 | i%2 != 0):\n",
    "        \n",
    "        if (count < 1):\n",
    "            print(\"Ood numbers are:\")\n",
    "            count += 1\n",
    "            \n",
    "        print(i)\n",
    "        count += 1\n",
    "        \n",
    "if count <= 0:\n",
    "    print(\"There is no ood number are present in given range\")"
   ]
  },
  {
   "cell_type": "code",
   "execution_count": null,
   "metadata": {},
   "outputs": [],
   "source": []
  }
 ],
 "metadata": {
  "kernelspec": {
   "display_name": "Python 3",
   "language": "python",
   "name": "python3"
  },
  "language_info": {
   "codemirror_mode": {
    "name": "ipython",
    "version": 3
   },
   "file_extension": ".py",
   "mimetype": "text/x-python",
   "name": "python",
   "nbconvert_exporter": "python",
   "pygments_lexer": "ipython3",
   "version": "3.8.5"
  }
 },
 "nbformat": 4,
 "nbformat_minor": 4
}
