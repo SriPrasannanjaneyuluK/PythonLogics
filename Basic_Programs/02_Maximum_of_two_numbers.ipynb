{
 "cells": [
  {
   "cell_type": "markdown",
   "metadata": {},
   "source": [
    "## Maximum of two numbers in Python"
   ]
  },
  {
   "cell_type": "code",
   "execution_count": null,
   "metadata": {},
   "outputs": [],
   "source": [
    "1. Maximum of two numbers in Python"
   ]
  },
  {
   "cell_type": "code",
   "execution_count": 7,
   "metadata": {},
   "outputs": [
    {
     "name": "stdout",
     "output_type": "stream",
     "text": [
      "Enter a first number: 2\n",
      "Enter a second number: 4\n",
      "The maximum number is  4\n"
     ]
    }
   ],
   "source": [
    "num_1 = int(input(\"Enter a first number: \"))\n",
    "num_2 = int(input(\"Enter a second number: \"))\n",
    "\n",
    "if num_1 < num_2:\n",
    "    print(\"The maximum number is \",num_2)\n",
    "    \n",
    "elif num_1 == num_2:\n",
    "    print(\"Two numbers are equal\")\n",
    "    \n",
    "else:\n",
    "    print(\"the maximum nuber is \",num_1)"
   ]
  },
  {
   "cell_type": "code",
   "execution_count": null,
   "metadata": {},
   "outputs": [],
   "source": [
    "2. Maximum of two float numbers in Python"
   ]
  },
  {
   "cell_type": "code",
   "execution_count": 9,
   "metadata": {},
   "outputs": [
    {
     "name": "stdout",
     "output_type": "stream",
     "text": [
      "Enter a first number: 5.5\n",
      "Enter a second number: 5.5\n",
      "Two numbers are equal\n"
     ]
    }
   ],
   "source": [
    "num_1 = float(input(\"Enter a first number: \"))\n",
    "num_2 = float(input(\"Enter a second number: \"))\n",
    "\n",
    "if num_1 < num_2:\n",
    "    print(\"The maximum number is \",num_2)\n",
    "    \n",
    "elif num_1 == num_2:\n",
    "    print(\"Two numbers are equal\")\n",
    "    \n",
    "else:\n",
    "    print(\"the maximum nuber is \",num_1)"
   ]
  }
 ],
 "metadata": {
  "kernelspec": {
   "display_name": "Python 3",
   "language": "python",
   "name": "python3"
  },
  "language_info": {
   "codemirror_mode": {
    "name": "ipython",
    "version": 3
   },
   "file_extension": ".py",
   "mimetype": "text/x-python",
   "name": "python",
   "nbconvert_exporter": "python",
   "pygments_lexer": "ipython3",
   "version": "3.8.5"
  }
 },
 "nbformat": 4,
 "nbformat_minor": 4
}
